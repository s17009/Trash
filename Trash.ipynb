{
 "cells": [
  {
   "cell_type": "code",
   "execution_count": 34,
   "metadata": {},
   "outputs": [],
   "source": [
    "from google.cloud import vision"
   ]
  },
  {
   "cell_type": "code",
   "execution_count": 35,
   "metadata": {},
   "outputs": [],
   "source": [
    "import os\n",
    "os.environ['GOOGLE_APPLICATION_CREDENTIALS']='C:/Users/Patryk/Desktop/deft-station-375717-6847447a0df3.json'"
   ]
  },
  {
   "cell_type": "code",
   "execution_count": 49,
   "metadata": {},
   "outputs": [],
   "source": [
    "def detect_labels_uri(uri):\n",
    "    \"\"\"Detects labels in the file located in Google Cloud Storage or on the\n",
    "    Web.\"\"\"\n",
    "    from google.cloud import vision\n",
    "    client = vision.ImageAnnotatorClient()\n",
    "    image = vision.Image()\n",
    "    image.source.image_uri = uri\n",
    "\n",
    "    response = client.label_detection(image=image)\n",
    "    labels = response.label_annotations\n",
    "    #print(labels)\n",
    "    print('Labels:')\n",
    "\n",
    "    for label in labels:\n",
    "        print(label.description + \" \"+ str(label.score))\n",
    "\n",
    "    if response.error.message:\n",
    "        raise Exception(\n",
    "            '{}\\nFor more info on error messages, check: '\n",
    "            'https://cloud.google.com/apis/design/errors'.format(\n",
    "                response.error.message))\n",
    "                \n",
    "def detect_labels(path):\n",
    "    \"\"\"Detects labels in the file.\"\"\"\n",
    "    from google.cloud import vision\n",
    "    import io\n",
    "    client = vision.ImageAnnotatorClient()\n",
    "\n",
    "    with io.open(path, 'rb') as image_file:\n",
    "        content = image_file.read()\n",
    "\n",
    "    image = vision.Image(content=content)\n",
    "\n",
    "    response = client.label_detection(image=image)\n",
    "    labels = response.label_annotations\n",
    "    print('Labels:')\n",
    "\n",
    "    for label in labels:\n",
    "        print(label.description)\n",
    "\n",
    "    if response.error.message:\n",
    "        raise Exception(\n",
    "            '{}\\nFor more info on error messages, check: '\n",
    "            'https://cloud.google.com/apis/design/errors'.format(\n",
    "                response.error.message))"
   ]
  },
  {
   "cell_type": "code",
   "execution_count": 54,
   "metadata": {},
   "outputs": [
    {
     "name": "stdout",
     "output_type": "stream",
     "text": [
      "Labels:\n",
      "Plant 0.8873489499092102\n",
      "Pollution 0.8469559550285339\n",
      "Grass 0.821639895439148\n",
      "Groundcover 0.789735734462738\n",
      "Gas 0.7763906717300415\n",
      "Waste 0.7491664886474609\n",
      "Plastic 0.7215628027915955\n",
      "Litter 0.7000278234481812\n",
      "Soil 0.6741319298744202\n",
      "Event 0.6322991251945496\n"
     ]
    }
   ],
   "source": [
    "detect_labels_uri('https://www.ladysmithchronicle.com/wp-content/uploads/2019/07/17648894_web1_190711-LCH-Garbage-Forests1-640x427.jpg')\n",
    "#detect_labels(path)"
   ]
  },
  {
   "cell_type": "code",
   "execution_count": 39,
   "metadata": {},
   "outputs": [],
   "source": [
    "def localize_objects_uri(uri):\n",
    "    \"\"\"Localize objects in the image on Google Cloud Storage\n",
    "\n",
    "    Args:\n",
    "    uri: The path to the file in Google Cloud Storage (gs://...)\n",
    "    \"\"\"\n",
    "    from google.cloud import vision\n",
    "    client = vision.ImageAnnotatorClient()\n",
    "\n",
    "    image = vision.Image()\n",
    "    image.source.image_uri = uri\n",
    "\n",
    "    objects = client.object_localization(\n",
    "        image=image).localized_object_annotations\n",
    "\n",
    "    print('Number of objects found: {}'.format(len(objects)))\n",
    "    for object_ in objects:\n",
    "        print('\\n{} (confidence: {})'.format(object_.name, object_.score))\n",
    "        print('Normalized bounding polygon vertices: ')\n",
    "        for vertex in object_.bounding_poly.normalized_vertices:\n",
    "            print(' - ({}, {})'.format(vertex.x, vertex.y))\n",
    "            \n",
    "def localize_objects(path):\n",
    "    \"\"\"Localize objects in the local image.\n",
    "\n",
    "    Args:\n",
    "    path: The path to the local file.\n",
    "    \"\"\"\n",
    "    from google.cloud import vision\n",
    "    client = vision.ImageAnnotatorClient()\n",
    "\n",
    "    with open(path, 'rb') as image_file:\n",
    "        content = image_file.read()\n",
    "    image = vision.Image(content=content)\n",
    "\n",
    "    objects = client.object_localization(\n",
    "        image=image).localized_object_annotations\n",
    "\n",
    "    print('Number of objects found: {}'.format(len(objects)))\n",
    "    for object_ in objects:\n",
    "        print('\\n{} (confidence: {})'.format(object_.name, object_.score))\n",
    "        print('Normalized bounding polygon vertices: ')\n",
    "        for vertex in object_.bounding_poly.normalized_vertices:\n",
    "            print(' - ({}, {})'.format(vertex.x, vertex.y))"
   ]
  },
  {
   "cell_type": "code",
   "execution_count": 40,
   "metadata": {},
   "outputs": [
    {
     "name": "stdout",
     "output_type": "stream",
     "text": [
      "Number of objects found: 3\n",
      "\n",
      "Tire (confidence: 0.8634804487228394)\n",
      "Normalized bounding polygon vertices: \n",
      " - (0.34446871280670166, 0.21946412324905396)\n",
      " - (0.5322120785713196, 0.21946412324905396)\n",
      " - (0.5322120785713196, 0.36496803164482117)\n",
      " - (0.34446871280670166, 0.36496803164482117)\n",
      "\n",
      "Animal (confidence: 0.7266250252723694)\n",
      "Normalized bounding polygon vertices: \n",
      " - (0.3751187324523926, 0.41908133029937744)\n",
      " - (0.5292325019836426, 0.41908133029937744)\n",
      " - (0.5292325019836426, 0.6429702639579773)\n",
      " - (0.3751187324523926, 0.6429702639579773)\n",
      "\n",
      "Container (confidence: 0.7223831415176392)\n",
      "Normalized bounding polygon vertices: \n",
      " - (0.47965148091316223, 0.6980940699577332)\n",
      " - (0.7084463238716125, 0.6980940699577332)\n",
      " - (0.7084463238716125, 0.9241793751716614)\n",
      " - (0.47965148091316223, 0.9241793751716614)\n"
     ]
    }
   ],
   "source": [
    "localize_objects_uri('https://www.ladysmithchronicle.com/wp-content/uploads/2019/07/17648894_web1_190711-LCH-Garbage-Forests1-640x427.jpg')\n",
    "#localize_objects(path)"
   ]
  },
  {
   "cell_type": "code",
   "execution_count": null,
   "metadata": {},
   "outputs": [],
   "source": [
    "from PIL import Image\n",
    "from PIL.ExifTags import TAGS"
   ]
  },
  {
   "cell_type": "code",
   "execution_count": null,
   "metadata": {},
   "outputs": [],
   "source": [
    "imagename = \"C:/Users/Patryk/Desktop/17648894_web1_190711-LCH-Garbage-Forests1.jpg\"\n",
    "#https://drive.google.com/file/d/1i0hYkcI7nN4fPDAuEhJolDFU7mfm7kBB/view?usp=share_link zdj z lokalizacją gps w metadanych\n",
    "\n",
    "# read the image data using PIL\n",
    "image = Image.open(imagename)"
   ]
  },
  {
   "cell_type": "code",
   "execution_count": null,
   "metadata": {},
   "outputs": [],
   "source": [
    "import piexif\n",
    "\n",
    "codec = 'ISO-8859-1'\n",
    "\n",
    "def exif_to_tag(exif_dict):\n",
    "    exif_tag_dict = {}\n",
    "    thumbnail = exif_dict.pop('thumbnail')\n",
    "    exif_tag_dict['thumbnail'] = thumbnail.decode(codec)\n",
    "\n",
    "    for ifd in exif_dict:\n",
    "        exif_tag_dict[ifd] = {}\n",
    "        for tag in exif_dict[ifd]:\n",
    "            try:\n",
    "                element = exif_dict[ifd][tag].decode(codec)\n",
    "\n",
    "            except AttributeError:\n",
    "                element = exif_dict[ifd][tag]\n",
    "\n",
    "            exif_tag_dict[ifd][piexif.TAGS[ifd][tag][\"name\"]] = element\n",
    "\n",
    "    return exif_tag_dict"
   ]
  },
  {
   "cell_type": "code",
   "execution_count": null,
   "metadata": {},
   "outputs": [
    {
     "name": "stdout",
     "output_type": "stream",
     "text": [
      "{'GPSLatitudeRef': 'N', 'GPSLatitude': ((52, 1), (190348191, 10000000), (0, 1)), 'GPSLongitudeRef': 'E', 'GPSLongitude': ((20, 1), (416055962, 10000000), (0, 1))}\n"
     ]
    }
   ],
   "source": [
    "exif_dict = piexif.load(image.info.get('exif'))\n",
    "exif_dict = exif_to_tag(exif_dict)\n",
    "print(exif_dict['GPS'])\n",
    "\n",
    "print(exif_dict['GPS'].GPSLatitude)"
   ]
  },
  {
   "cell_type": "code",
   "execution_count": null,
   "metadata": {},
   "outputs": [
    {
     "name": "stdout",
     "output_type": "stream",
     "text": [
      "52 190348191\n",
      "20 416055962\n"
     ]
    }
   ],
   "source": [
    "#Wysokosc i szerokosc geograficzna pobrana z metadanych zdj\n",
    "print(str(exif_dict['GPS'].get('GPSLatitude')[0][0])+\" \"+str(exif_dict['GPS'].get('GPSLatitude')[1][0]))\n",
    "print(str(exif_dict['GPS'].get('GPSLongitude')[0][0])+\" \"+str(exif_dict['GPS'].get('GPSLongitude')[1][0]))"
   ]
  },
  {
   "cell_type": "code",
   "execution_count": null,
   "metadata": {},
   "outputs": [],
   "source": []
  }
 ],
 "metadata": {
  "kernelspec": {
   "display_name": "Python 3",
   "language": "python",
   "name": "python3"
  },
  "language_info": {
   "codemirror_mode": {
    "name": "ipython",
    "version": 3
   },
   "file_extension": ".py",
   "mimetype": "text/x-python",
   "name": "python",
   "nbconvert_exporter": "python",
   "pygments_lexer": "ipython3",
   "version": "3.9.13"
  },
  "orig_nbformat": 4,
  "vscode": {
   "interpreter": {
    "hash": "cf66a77461659b916d644461a5b831daa2e4412b2407b70014fbfd1099ec74b4"
   }
  }
 },
 "nbformat": 4,
 "nbformat_minor": 2
}
